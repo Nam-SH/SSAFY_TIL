{
 "cells": [
  {
   "cell_type": "markdown",
   "metadata": {},
   "source": [
    "# 클래스 연습해보기"
   ]
  },
  {
   "cell_type": "code",
   "execution_count": 2,
   "metadata": {},
   "outputs": [],
   "source": [
    "class Person:\n",
    "    name = 'Daejeon' #멤버 변수"
   ]
  },
  {
   "cell_type": "code",
   "execution_count": 4,
   "metadata": {},
   "outputs": [
    {
     "name": "stdout",
     "output_type": "stream",
     "text": [
      "Daejeon\n",
      "Daejeon\n"
     ]
    }
   ],
   "source": [
    "p1 = Person()\n",
    "p2 = Person()\n",
    "\n",
    "print(p1.name)\n",
    "print(p2.name)"
   ]
  },
  {
   "cell_type": "markdown",
   "metadata": {},
   "source": [
    "- 선언한 클래스 Person에는 멤버 변수(데이터)인 name 만 포함되어 있다. 이후에 생성된 p1, p2 인스턴스에는 아직 인스턴스 객체의 특화된 데이터가 없기 때문에 여전히 클래스 객체에서 데이터를 참조합니다."
   ]
  },
  {
   "cell_type": "markdown",
   "metadata": {},
   "source": [
    "- 인스턴스 객체 p1의 멤버 변수인 name을 '서울'로 변경하면 인스턴스 p1의 이름공간에 존재하는 name 이라는 변수에 변경된 데이터를 저장\n",
    "- 변경하지 않은 인스턴스 객체 p2는 그대로"
   ]
  },
  {
   "cell_type": "code",
   "execution_count": 7,
   "metadata": {},
   "outputs": [
    {
     "name": "stdout",
     "output_type": "stream",
     "text": [
      "서울\n",
      "Daejeon\n"
     ]
    }
   ],
   "source": [
    "p1.name = '서울'\n",
    "print(p1.name)\n",
    "print(p2.name)"
   ]
  },
  {
   "cell_type": "markdown",
   "metadata": {},
   "source": [
    "- 파이썬은 클래스 객체와 인스턴스 객체에 `동적`으로 멤버 변수를 추가/삭제할 수 있다.\n",
    "- 클래스 객체 Person 에 멤버 변수인 title 추가 ==> 추가된 변수는 `인스턴스 객체로 즉시 접근 가능`"
   ]
  },
  {
   "cell_type": "code",
   "execution_count": 12,
   "metadata": {},
   "outputs": [
    {
     "name": "stdout",
     "output_type": "stream",
     "text": [
      "Welcome Daejeon\n",
      "Welcome Daejeon\n"
     ]
    }
   ],
   "source": [
    "Person.title = 'Welcome Daejeon'\n",
    "\n",
    "#p1, #p2 인스턴스 모두에서 해당 멤버 변수(객체)에 접근 가능\n",
    "print(p1.title)\n",
    "print(p2.title)"
   ]
  },
  {
   "cell_type": "code",
   "execution_count": 13,
   "metadata": {},
   "outputs": [
    {
     "name": "stdout",
     "output_type": "stream",
     "text": [
      "Welcome Daejeon\n"
     ]
    }
   ],
   "source": [
    "# 클래스 객체에서도 접근 가능하다.\n",
    "\n",
    "print(Person.title)"
   ]
  },
  {
   "cell_type": "markdown",
   "metadata": {},
   "source": [
    "- p1 인스턴스 객체에 water 멤버 변수를 추가하고, p2로 water를 접근하는 경우 Person 클래스에 water 멤버 변수를 찾을 수 없어 오류발생가 발생한다.\n",
    "- 인스턴스 객체에 멤버변수를 추가한 경우에는, 오직 해당 인스턴스 객체만 접근 가능하다."
   ]
  },
  {
   "cell_type": "code",
   "execution_count": 15,
   "metadata": {},
   "outputs": [
    {
     "name": "stdout",
     "output_type": "stream",
     "text": [
      "아리수\n"
     ]
    },
    {
     "ename": "AttributeError",
     "evalue": "'Person' object has no attribute 'water'",
     "output_type": "error",
     "traceback": [
      "\u001b[1;31m---------------------------------------------------------------------------\u001b[0m",
      "\u001b[1;31mAttributeError\u001b[0m                            Traceback (most recent call last)",
      "\u001b[1;32m<ipython-input-15-4dd78a1bfd67>\u001b[0m in \u001b[0;36m<module>\u001b[1;34m\u001b[0m\n\u001b[0;32m      2\u001b[0m \u001b[0mprint\u001b[0m\u001b[1;33m(\u001b[0m\u001b[0mp1\u001b[0m\u001b[1;33m.\u001b[0m\u001b[0mwater\u001b[0m\u001b[1;33m)\u001b[0m\u001b[1;33m\u001b[0m\u001b[1;33m\u001b[0m\u001b[0m\n\u001b[0;32m      3\u001b[0m \u001b[1;33m\u001b[0m\u001b[0m\n\u001b[1;32m----> 4\u001b[1;33m \u001b[0mprint\u001b[0m\u001b[1;33m(\u001b[0m\u001b[0mp2\u001b[0m\u001b[1;33m.\u001b[0m\u001b[0mwater\u001b[0m\u001b[1;33m)\u001b[0m\u001b[1;33m\u001b[0m\u001b[1;33m\u001b[0m\u001b[0m\n\u001b[0m",
      "\u001b[1;31mAttributeError\u001b[0m: 'Person' object has no attribute 'water'"
     ]
    }
   ],
   "source": [
    "p1.water = '아리수'\n",
    "print(p1.water)\n",
    "\n",
    "print(p2.water)"
   ]
  }
 ],
 "metadata": {
  "kernelspec": {
   "display_name": "Python 3",
   "language": "python",
   "name": "python3"
  },
  "language_info": {
   "codemirror_mode": {
    "name": "ipython",
    "version": 3
   },
   "file_extension": ".py",
   "mimetype": "text/x-python",
   "name": "python",
   "nbconvert_exporter": "python",
   "pygments_lexer": "ipython3",
   "version": "3.7.3"
  },
  "toc": {
   "base_numbering": 1,
   "nav_menu": {},
   "number_sections": true,
   "sideBar": true,
   "skip_h1_title": false,
   "title_cell": "Table of Contents",
   "title_sidebar": "Contents",
   "toc_cell": false,
   "toc_position": {},
   "toc_section_display": true,
   "toc_window_display": false
  }
 },
 "nbformat": 4,
 "nbformat_minor": 2
}
